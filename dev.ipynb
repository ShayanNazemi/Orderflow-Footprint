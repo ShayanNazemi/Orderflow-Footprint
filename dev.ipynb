{
 "cells": [
  {
   "cell_type": "code",
   "execution_count": 52,
   "id": "e7763ebc",
   "metadata": {},
   "outputs": [],
   "source": [
    "import json\n",
    "import pandas as pd\n",
    "import asyncio, asyncpg\n",
    "from datetime import datetime\n",
    "\n",
    "async def fetch_footprints(start, end, bin_width=1.0):\n",
    "    conn = await asyncpg.connect(\n",
    "        user=\"postgres\",\n",
    "        password=\"Asdf12345^&\",\n",
    "        database=\"binance\",\n",
    "        host=\"localhost\",\n",
    "        port=5432\n",
    "    )\n",
    "\n",
    "    query = open(\"orderflow.sql\").read()  # or put the SQL inline\n",
    "    rows = await conn.fetch(query, start, end, bin_width)\n",
    "    await conn.close()\n",
    "\n",
    "    # Transform rows into Python structures\n",
    "    result = []\n",
    "    for r in rows:\n",
    "        result.append({\n",
    "            \"t\": r[\"t\"],\n",
    "            \"open\": float(r[\"open\"]),\n",
    "            \"high\": float(r[\"high\"]),\n",
    "            \"low\": float(r[\"low\"]),\n",
    "            \"close\": float(r[\"close\"]),\n",
    "            \"volume\": float(r[\"volume\"]),\n",
    "            \"footprint\": json.loads(r[\"footprint\"]) if isinstance(r[\"footprint\"], str) else r[\"footprint\"]\n",
    "        })\n",
    "    return result"
   ]
  },
  {
   "cell_type": "code",
   "execution_count": 85,
   "id": "e3a4479b",
   "metadata": {},
   "outputs": [],
   "source": [
    "# Usage:\n",
    "start = datetime(2025, 8, 23, 17, 0)\n",
    "end = datetime(2025, 8, 23, 18, 0)\n",
    "result = await fetch_footprints(start, end, bin_width=10)"
   ]
  },
  {
   "cell_type": "code",
   "execution_count": null,
   "id": "edbb8c1c",
   "metadata": {},
   "outputs": [],
   "source": []
  },
  {
   "cell_type": "code",
   "execution_count": 89,
   "id": "1d48beae",
   "metadata": {},
   "outputs": [
    {
     "data": {
      "text/plain": [
       "{'t': datetime.datetime(2025, 8, 23, 21, 0, tzinfo=datetime.timezone.utc),\n",
       " 'open': 115281.0,\n",
       " 'high': 115281.1,\n",
       " 'low': 115228.6,\n",
       " 'close': 115228.6,\n",
       " 'volume': 33.516,\n",
       " 'footprint': [{'price_level': 115280,\n",
       "   'taker_seller': 8.465,\n",
       "   'taker_buyer': 3.555},\n",
       "  {'price_level': 115270, 'taker_seller': 1.623, 'taker_buyer': 0.003},\n",
       "  {'price_level': 115260, 'taker_seller': 13.176, 'taker_buyer': 0.003},\n",
       "  {'price_level': 115250, 'taker_seller': 3.392, 'taker_buyer': 0.007},\n",
       "  {'price_level': 115240, 'taker_seller': 1.318, 'taker_buyer': 0.037},\n",
       "  {'price_level': 115230, 'taker_seller': 1.66, 'taker_buyer': 0.277}]}"
      ]
     },
     "execution_count": 89,
     "metadata": {},
     "output_type": "execute_result"
    }
   ],
   "source": [
    "result[0]"
   ]
  },
  {
   "cell_type": "code",
   "execution_count": 93,
   "id": "398c56b0",
   "metadata": {},
   "outputs": [
    {
     "data": {
      "text/plain": [
       "{'t': datetime.datetime(2025, 8, 23, 21, 0, tzinfo=datetime.timezone.utc),\n",
       " 'open': Decimal('115281.00000000'),\n",
       " 'high': Decimal('115281.10000000'),\n",
       " 'low': Decimal('115228.60000000'),\n",
       " 'close': Decimal('115228.60000000'),\n",
       " 'volume': Decimal('33.51600000'),\n",
       " 'footprint': '[{\"price_level\" : 115281, \"taker_seller\" : 8.00600000, \"taker_buyer\" : 3.55500000}, {\"price_level\" : 115280, \"taker_seller\" : 0.33000000, \"taker_buyer\" : 0}, {\"price_level\" : 115279, \"taker_seller\" : 0.00300000, \"taker_buyer\" : 0}, {\"price_level\" : 115278, \"taker_seller\" : 0.00400000, \"taker_buyer\" : 0}, {\"price_level\" : 115277, \"taker_seller\" : 0.09600000, \"taker_buyer\" : 0}, {\"price_level\" : 115276, \"taker_seller\" : 0.02100000, \"taker_buyer\" : 0}, {\"price_level\" : 115275, \"taker_seller\" : 0.00900000, \"taker_buyer\" : 0}, {\"price_level\" : 115274, \"taker_seller\" : 0.33600000, \"taker_buyer\" : 0}, {\"price_level\" : 115273, \"taker_seller\" : 0.00500000, \"taker_buyer\" : 0}, {\"price_level\" : 115272, \"taker_seller\" : 0.09600000, \"taker_buyer\" : 0}, {\"price_level\" : 115271, \"taker_seller\" : 0.32900000, \"taker_buyer\" : 0}, {\"price_level\" : 115270, \"taker_seller\" : 0.03300000, \"taker_buyer\" : 0}, {\"price_level\" : 115269, \"taker_seller\" : 0.00900000, \"taker_buyer\" : 0.00200000}, {\"price_level\" : 115268, \"taker_seller\" : 0.27200000, \"taker_buyer\" : 0}, {\"price_level\" : 115267, \"taker_seller\" : 0.40700000, \"taker_buyer\" : 0}, {\"price_level\" : 115266, \"taker_seller\" : 0.04500000, \"taker_buyer\" : 0}, {\"price_level\" : 115265, \"taker_seller\" : 0.49700000, \"taker_buyer\" : 0.00100000}, {\"price_level\" : 115264, \"taker_seller\" : 1.51700000, \"taker_buyer\" : 0.00300000}, {\"price_level\" : 115263, \"taker_seller\" : 10.43100000, \"taker_buyer\" : 0}, {\"price_level\" : 115262, \"taker_seller\" : 0.00300000, \"taker_buyer\" : 0}, {\"price_level\" : 115261, \"taker_seller\" : 0.00400000, \"taker_buyer\" : 0}, {\"price_level\" : 115260, \"taker_seller\" : 0.15400000, \"taker_buyer\" : 0}, {\"price_level\" : 115259, \"taker_seller\" : 0.00400000, \"taker_buyer\" : 0}, {\"price_level\" : 115258, \"taker_seller\" : 0.04300000, \"taker_buyer\" : 0}, {\"price_level\" : 115257, \"taker_seller\" : 0.00900000, \"taker_buyer\" : 0}, {\"price_level\" : 115256, \"taker_seller\" : 0.59800000, \"taker_buyer\" : 0}, {\"price_level\" : 115255, \"taker_seller\" : 0.10800000, \"taker_buyer\" : 0}, {\"price_level\" : 115254, \"taker_seller\" : 0.04000000, \"taker_buyer\" : 0}, {\"price_level\" : 115253, \"taker_seller\" : 0.00900000, \"taker_buyer\" : 0}, {\"price_level\" : 115252, \"taker_seller\" : 0.19400000, \"taker_buyer\" : 0}, {\"price_level\" : 115251, \"taker_seller\" : 1.59400000, \"taker_buyer\" : 0.00500000}, {\"price_level\" : 115250, \"taker_seller\" : 1.18300000, \"taker_buyer\" : 0.00200000}, {\"price_level\" : 115249, \"taker_seller\" : 0.00700000, \"taker_buyer\" : 0}, {\"price_level\" : 115248, \"taker_seller\" : 0.00900000, \"taker_buyer\" : 0}, {\"price_level\" : 115247, \"taker_seller\" : 0.05300000, \"taker_buyer\" : 0}, {\"price_level\" : 115246, \"taker_seller\" : 0.19800000, \"taker_buyer\" : 0}, {\"price_level\" : 115245, \"taker_seller\" : 0.44300000, \"taker_buyer\" : 0}, {\"price_level\" : 115244, \"taker_seller\" : 0.00200000, \"taker_buyer\" : 0}, {\"price_level\" : 115243, \"taker_seller\" : 0.04800000, \"taker_buyer\" : 0}, {\"price_level\" : 115242, \"taker_seller\" : 0.03200000, \"taker_buyer\" : 0}, {\"price_level\" : 115241, \"taker_seller\" : 0.64700000, \"taker_buyer\" : 0.03700000}, {\"price_level\" : 115240, \"taker_seller\" : 0.06500000, \"taker_buyer\" : 0}, {\"price_level\" : 115239, \"taker_seller\" : 0.02000000, \"taker_buyer\" : 0}, {\"price_level\" : 115238, \"taker_seller\" : 0.04800000, \"taker_buyer\" : 0}, {\"price_level\" : 115237, \"taker_seller\" : 0.00300000, \"taker_buyer\" : 0}, {\"price_level\" : 115236, \"taker_seller\" : 0.00600000, \"taker_buyer\" : 0}, {\"price_level\" : 115235, \"taker_seller\" : 0.00600000, \"taker_buyer\" : 0}, {\"price_level\" : 115234, \"taker_seller\" : 0.00300000, \"taker_buyer\" : 0}, {\"price_level\" : 115233, \"taker_seller\" : 0.00900000, \"taker_buyer\" : 0}, {\"price_level\" : 115232, \"taker_seller\" : 0.19900000, \"taker_buyer\" : 0}, {\"price_level\" : 115231, \"taker_seller\" : 0.03300000, \"taker_buyer\" : 0}, {\"price_level\" : 115230, \"taker_seller\" : 0.04000000, \"taker_buyer\" : 0}, {\"price_level\" : 115229, \"taker_seller\" : 1.37400000, \"taker_buyer\" : 0.27700000}]'}"
      ]
     },
     "execution_count": 93,
     "metadata": {},
     "output_type": "execute_result"
    }
   ],
   "source": [
    "dict(rows[0])"
   ]
  }
 ],
 "metadata": {
  "kernelspec": {
   "display_name": ".venv (3.11.5)",
   "language": "python",
   "name": "python3"
  },
  "language_info": {
   "codemirror_mode": {
    "name": "ipython",
    "version": 3
   },
   "file_extension": ".py",
   "mimetype": "text/x-python",
   "name": "python",
   "nbconvert_exporter": "python",
   "pygments_lexer": "ipython3",
   "version": "3.11.5"
  }
 },
 "nbformat": 4,
 "nbformat_minor": 5
}
